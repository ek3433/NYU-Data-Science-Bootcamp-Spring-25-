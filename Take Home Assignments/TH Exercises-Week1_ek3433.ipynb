{
 "cells": [
  {
   "cell_type": "markdown",
   "metadata": {},
   "source": [
    "1.⁠ ⁠Display Fibonacci Series upto 10 terms\n",
    "\n",
    "2.⁠ ⁠Display numbers at the odd indices of a list\n",
    "\n",
    "3.⁠ ⁠⁠string = \"\"\"\n",
    "\n",
    "I have provided this text to provide tips on creating interesting paragraphs.\n",
    "\n",
    "First, start with a clear topic sentence that introduces the main idea.\n",
    "\n",
    "Then, support the topic sentence with specific details, examples, and evidence.\n",
    "\n",
    "Vary the sentence length and structure to keep the reader engaged.\n",
    "\n",
    "Finally, end with a strong concluding sentence that summarizes the main points.\n",
    "\n",
    "Remember, practice makes perfect!\n",
    "\n",
    "\"\"\"\n",
    "\n",
    "Your task is to count the number of different words in this text\n",
    "\n",
    "4. Write a function  *count_vowels(word)* that takes a word as an argument and returns the number of vowels in the word\n",
    "5. Iterate through the following list of animals and print each one in all caps.\n",
    "\n",
    "  animals=['tiger', 'elephant', 'monkey', 'zebra', 'panther']\n",
    "\n",
    "6. Write a program that iterates from 1 to 20, printing each number and whether it's odd or even.\n",
    "7. Write a function *sum_of_integers(a, b)* that takes two integers as input from the user and returns their sum.\n"
   ]
  },
  {
   "cell_type": "code",
   "execution_count": 1,
   "metadata": {},
   "outputs": [
    {
     "name": "stdout",
     "output_type": "stream",
     "text": [
      "0\n",
      "1\n",
      "1\n",
      "2\n",
      "3\n",
      "5\n",
      "8\n",
      "13\n",
      "21\n",
      "34\n"
     ]
    }
   ],
   "source": [
    "#Exercise 1\n",
    "#⁠Display Fibonacci Series upto 10 terms\n",
    "\n",
    "#Function displaying first n terms of Fibonnacci sequence\n",
    "def fibonacci(n):\n",
    "    a, b = 0, 1\n",
    "    while n > 0:\n",
    "        print(a)\n",
    "        a, b = b, a + b\n",
    "        n -= 1\n",
    "\n",
    "#First 10 terms\n",
    "fibonacci(10)\n",
    "\n",
    "\n",
    "\n"
   ]
  },
  {
   "cell_type": "code",
   "execution_count": 2,
   "metadata": {},
   "outputs": [
    {
     "name": "stdout",
     "output_type": "stream",
     "text": [
      "Index 1 : EKAVAL\n",
      "Index 3 : 55\n",
      "Index 5 : 17\n",
      "Index 7 : 94\n"
     ]
    }
   ],
   "source": [
    "#Exercise 2\n",
    "#⁠Display numbers at the odd indices of a list\n",
    "def odd_index_values(l):\n",
    "    for i in range(1, len(l), 2):  # Start at index 1 instead of 0, use step size 2\n",
    "        print(\"Index\", i,\":\", l[i])\n",
    "\n",
    "# Example usage on list:\n",
    "examplelist = [\"NYU\", \"EKAVAL\", \"ISG\", 55, 12, 17, \"test\", 94] #Should display EKAVAL, 55, 17, 94\n",
    "odd_index_values(examplelist)\n"
   ]
  },
  {
   "cell_type": "code",
   "execution_count": 3,
   "metadata": {},
   "outputs": [
    {
     "name": "stdout",
     "output_type": "stream",
     "text": [
      "['I', 'HAVE', 'PROVIDED', 'THIS', 'TEXT', 'TO', 'PROVIDE', 'TIPS', 'ON', 'CREATING', 'INTERESTING', 'PARAGRAPHS.', 'FIRST,', 'START', 'WITH', 'A', 'CLEAR', 'TOPIC', 'SENTENCE', 'THAT', 'INTRODUCES', 'THE', 'MAIN', 'IDEA.', 'THEN,', 'SUPPORT', 'THE', 'TOPIC', 'SENTENCE', 'WITH', 'SPECIFIC', 'DETAILS,', 'EXAMPLES,', 'AND', 'EVIDENCE.', 'VARY', 'THE', 'SENTENCE', 'LENGTH', 'AND', 'STRUCTURE', 'TO', 'KEEP', 'THE', 'READER', 'ENGAGED.', 'FINALLY,', 'END', 'WITH', 'A', 'STRONG', 'CONCLUDING', 'SENTENCE', 'THAT', 'SUMMARIZES', 'THE', 'MAIN', 'POINTS.', 'REMEMBER,', 'PRACTICE', 'MAKES', 'PERFECT!']\n",
      "Number of different words: 47\n"
     ]
    }
   ],
   "source": [
    "#Exercise 3:\n",
    "\n",
    "string = \"\"\"\n",
    "I have provided this text to provide tips on creating interesting paragraphs.\n",
    "First, start with a clear topic sentence that introduces the main idea.\n",
    "Then, support the topic sentence with specific details, examples, and evidence.\n",
    "Vary the sentence length and structure to keep the reader engaged.\n",
    "Finally, end with a strong concluding sentence that summarizes the main points.\n",
    "Remember, practice makes perfect!\n",
    "\"\"\"\n",
    "#Your task is to count the number of different words in this text\n",
    "\n",
    "words = string.upper().split()\n",
    "print(words)\n",
    "\n",
    "unique_words = []\n",
    "for word in words:\n",
    "    count = 0\n",
    "    for unique in unique_words:\n",
    "        if word == unique:\n",
    "            count += 1  \n",
    "    \n",
    "    if count == 0:  # If no match was found, add the word\n",
    "        unique_words.append(word)\n",
    "\n",
    "# Count unique words\n",
    "print(\"Number of different words:\", len(unique_words))\n"
   ]
  },
  {
   "cell_type": "code",
   "execution_count": 4,
   "metadata": {},
   "outputs": [
    {
     "name": "stdout",
     "output_type": "stream",
     "text": [
      "# of vowels:\n",
      "5\n"
     ]
    }
   ],
   "source": [
    "# Exercise 4:\n",
    "#Write a function count_vowels(word) that takes a word as an argument and returns the number of vowels in the word\n",
    "\n",
    "def count_vowels(word):\n",
    "    vowels = \"aeiouAEIOU\"\n",
    "    count = 0\n",
    "    for i in range(len(word)):\n",
    "        if word[i] in vowels:\n",
    "            count += 1\n",
    "    return count\n",
    "\n",
    "#Example Use:\n",
    "\n",
    "print(\"# of vowels:\") \n",
    "print(count_vowels(\"My name is Eren\")) #Should be 5"
   ]
  },
  {
   "cell_type": "code",
   "execution_count": 5,
   "metadata": {},
   "outputs": [
    {
     "name": "stdout",
     "output_type": "stream",
     "text": [
      "TIGER\n",
      "ELEPHANT\n",
      "MONKEY\n",
      "ZEBRA\n",
      "PANTHER\n"
     ]
    }
   ],
   "source": [
    "#Exercise 5:\n",
    "# Iterate through the following list of animals and print each one in all caps.\n",
    "\n",
    "animals = ['tiger', 'elephant', 'monkey', 'zebra', 'panther']\n",
    "for a in animals:\n",
    "    print(a.upper())"
   ]
  },
  {
   "cell_type": "code",
   "execution_count": 6,
   "metadata": {},
   "outputs": [
    {
     "name": "stdout",
     "output_type": "stream",
     "text": [
      "1  is odd\n",
      "2  is even\n",
      "3  is odd\n",
      "4  is even\n",
      "5  is odd\n",
      "6  is even\n",
      "7  is odd\n",
      "8  is even\n",
      "9  is odd\n",
      "10  is even\n",
      "11  is odd\n",
      "12  is even\n",
      "13  is odd\n",
      "14  is even\n",
      "15  is odd\n",
      "16  is even\n",
      "17  is odd\n",
      "18  is even\n",
      "19  is odd\n",
      "20  is even\n"
     ]
    }
   ],
   "source": [
    "#Exercise 6:\n",
    "#Write a program that iterates from 1 to 20, printing each number and whether it's odd or even\n",
    "\n",
    "#Generic function to write if the number is odd or even based on start and end numbers:\n",
    "\n",
    "def print_odd_even(start, end):\n",
    "    num = start\n",
    "    while num <= end:\n",
    "        if num % 2 == 0:\n",
    "            print(num, \" is even\")\n",
    "        else:\n",
    "            print(num, \" is odd\")\n",
    "        num += 1\n",
    "\n",
    "# Example use for 1 to 20:\n",
    "print_odd_even(1, 20)\n",
    "\n"
   ]
  },
  {
   "cell_type": "code",
   "execution_count": 7,
   "metadata": {},
   "outputs": [
    {
     "data": {
      "text/plain": [
       "88"
      ]
     },
     "execution_count": 7,
     "metadata": {},
     "output_type": "execute_result"
    }
   ],
   "source": [
    "#Exercise 7:\n",
    "#Write a function sum_of_integers(a, b) that takes two integers as input from the user and returns their sum\n",
    "\n",
    "def sum_of_integers(a, b):\n",
    "    if (type(a) == int and type(b) == int):\n",
    "        return a+b\n",
    "    return \"Error: Please provide integer values.\"\n",
    "\n",
    "#Example 17+71=88\n",
    "\n",
    "sum_of_integers(17,71)"
   ]
  }
 ],
 "metadata": {
  "kernelspec": {
   "display_name": "Python 3",
   "language": "python",
   "name": "python3"
  },
  "language_info": {
   "codemirror_mode": {
    "name": "ipython",
    "version": 3
   },
   "file_extension": ".py",
   "mimetype": "text/x-python",
   "name": "python",
   "nbconvert_exporter": "python",
   "pygments_lexer": "ipython3",
   "version": "3.12.9"
  }
 },
 "nbformat": 4,
 "nbformat_minor": 2
}
